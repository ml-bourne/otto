{
 "cells": [
  {
   "cell_type": "code",
   "execution_count": 1,
   "metadata": {
    "collapsed": false
   },
   "outputs": [],
   "source": [
    "from IPython.display import Image"
   ]
  },
  {
   "cell_type": "code",
   "execution_count": 2,
   "metadata": {
    "collapsed": false
   },
   "outputs": [],
   "source": [
    "diagram = Image(url='https://kaggle2.blob.core.windows.net/competitions/kaggle/4280/media/Grafik.jpg')"
   ]
  },
  {
   "cell_type": "code",
   "execution_count": 3,
   "metadata": {
    "collapsed": false
   },
   "outputs": [
    {
     "data": {
      "text/html": [
       "<img src=\"https://kaggle2.blob.core.windows.net/competitions/kaggle/4280/media/Grafik.jpg\"/>"
      ],
      "text/plain": [
       "<IPython.core.display.Image object>"
      ]
     },
     "execution_count": 3,
     "metadata": {},
     "output_type": "execute_result"
    }
   ],
   "source": [
    "diagram"
   ]
  },
  {
   "cell_type": "markdown",
   "metadata": {},
   "source": [
    "The otto challenge from Kaggle requires that items in inventory be grouped according to a set of features.\n",
    "\n",
    "    For this competition, we have provided a dataset with 93 features for more than 200,000 products. The objective is to build a predictive model which is able to distinguish between our main product categories. The winning models will be open sourced."
   ]
  },
  {
   "cell_type": "code",
   "execution_count": 4,
   "metadata": {
    "collapsed": false
   },
   "outputs": [],
   "source": [
    "import urllib"
   ]
  },
  {
   "cell_type": "code",
   "execution_count": null,
   "metadata": {
    "collapsed": true
   },
   "outputs": [],
   "source": []
  },
  {
   "cell_type": "code",
   "execution_count": 5,
   "metadata": {
    "collapsed": false
   },
   "outputs": [
    {
     "ename": "ImportError",
     "evalue": "No module named 'ZipFile'",
     "output_type": "error",
     "traceback": [
      "\u001b[0;31m---------------------------------------------------------------------------\u001b[0m",
      "\u001b[0;31mImportError\u001b[0m                               Traceback (most recent call last)",
      "\u001b[0;32m<ipython-input-5-a6bc2df84e10>\u001b[0m in \u001b[0;36m<module>\u001b[0;34m()\u001b[0m\n\u001b[0;32m----> 1\u001b[0;31m \u001b[0;32mimport\u001b[0m \u001b[0mrequests\u001b[0m\u001b[0;34m,\u001b[0m \u001b[0mZipFile\u001b[0m\u001b[0;34m,\u001b[0m \u001b[0mStringIO\u001b[0m\u001b[0;34m\u001b[0m\u001b[0m\n\u001b[0m\u001b[1;32m      2\u001b[0m \u001b[0mzip_file_url\u001b[0m \u001b[0;34m=\u001b[0m \u001b[0;34m'https://www.kaggle.com/c/otto-group-product-classification-challenge/download/train.csv.zip'\u001b[0m\u001b[0;34m\u001b[0m\u001b[0m\n\u001b[1;32m      3\u001b[0m \u001b[0mr\u001b[0m \u001b[0;34m=\u001b[0m \u001b[0mrequests\u001b[0m\u001b[0;34m.\u001b[0m\u001b[0mget\u001b[0m\u001b[0;34m(\u001b[0m\u001b[0mzip_file_url\u001b[0m\u001b[0;34m)\u001b[0m\u001b[0;34m\u001b[0m\u001b[0m\n\u001b[1;32m      4\u001b[0m \u001b[0mz\u001b[0m \u001b[0;34m=\u001b[0m \u001b[0mzipfile\u001b[0m\u001b[0;34m.\u001b[0m\u001b[0mZipFile\u001b[0m\u001b[0;34m(\u001b[0m\u001b[0mStringIO\u001b[0m\u001b[0;34m.\u001b[0m\u001b[0mStringIO\u001b[0m\u001b[0;34m(\u001b[0m\u001b[0mr\u001b[0m\u001b[0;34m.\u001b[0m\u001b[0mcontent\u001b[0m\u001b[0;34m)\u001b[0m\u001b[0;34m)\u001b[0m\u001b[0;34m\u001b[0m\u001b[0m\n\u001b[1;32m      5\u001b[0m \u001b[0mz\u001b[0m\u001b[0;34m.\u001b[0m\u001b[0mextractall\u001b[0m\u001b[0;34m(\u001b[0m\u001b[0;34m)\u001b[0m\u001b[0;34m\u001b[0m\u001b[0m\n",
      "\u001b[0;31mImportError\u001b[0m: No module named 'ZipFile'"
     ]
    }
   ],
   "source": [
    "import requests, ZipFile, StringIO\n",
    "zip_file_url = 'https://www.kaggle.com/c/otto-group-product-classification-challenge/download/train.csv.zip'\n",
    "r = requests.get(zip_file_url)\n",
    "z = zipfile.ZipFile(StringIO.StringIO(r.content))\n",
    "z.extractall()"
   ]
  },
  {
   "cell_type": "code",
   "execution_count": 11,
   "metadata": {
    "collapsed": false
   },
   "outputs": [
    {
     "ename": "AttributeError",
     "evalue": "'bytes' object has no attribute 'seek'",
     "output_type": "error",
     "traceback": [
      "\u001b[0;31m---------------------------------------------------------------------------\u001b[0m",
      "\u001b[0;31mAttributeError\u001b[0m                            Traceback (most recent call last)",
      "\u001b[0;32m<ipython-input-11-a3c9e13d71a4>\u001b[0m in \u001b[0;36m<module>\u001b[0;34m()\u001b[0m\n\u001b[1;32m      2\u001b[0m \u001b[0mzip_file_url\u001b[0m \u001b[0;34m=\u001b[0m \u001b[0;34m'https://www.kaggle.com/c/otto-group-product-classification-challenge/download/train.csv.zip'\u001b[0m\u001b[0;34m\u001b[0m\u001b[0m\n\u001b[1;32m      3\u001b[0m \u001b[0mresults\u001b[0m \u001b[0;34m=\u001b[0m \u001b[0mrequests\u001b[0m\u001b[0;34m.\u001b[0m\u001b[0mget\u001b[0m\u001b[0;34m(\u001b[0m\u001b[0mzip_file_url\u001b[0m\u001b[0;34m)\u001b[0m\u001b[0;34m\u001b[0m\u001b[0m\n\u001b[0;32m----> 4\u001b[0;31m \u001b[0mzip\u001b[0m \u001b[0;34m=\u001b[0m \u001b[0mzipfile\u001b[0m\u001b[0;34m.\u001b[0m\u001b[0mZipFile\u001b[0m\u001b[0;34m(\u001b[0m\u001b[0mresults\u001b[0m\u001b[0;34m.\u001b[0m\u001b[0mcontent\u001b[0m\u001b[0;34m)\u001b[0m\u001b[0;34m\u001b[0m\u001b[0m\n\u001b[0m",
      "\u001b[0;32m/Users/Neuromancer/anaconda/envs/myenv3/lib/python3.4/zipfile.py\u001b[0m in \u001b[0;36m__init__\u001b[0;34m(self, file, mode, compression, allowZip64)\u001b[0m\n\u001b[1;32m    935\u001b[0m         \u001b[0;32mtry\u001b[0m\u001b[0;34m:\u001b[0m\u001b[0;34m\u001b[0m\u001b[0m\n\u001b[1;32m    936\u001b[0m             \u001b[0;32mif\u001b[0m \u001b[0mkey\u001b[0m \u001b[0;34m==\u001b[0m \u001b[0;34m'r'\u001b[0m\u001b[0;34m:\u001b[0m\u001b[0;34m\u001b[0m\u001b[0m\n\u001b[0;32m--> 937\u001b[0;31m                 \u001b[0mself\u001b[0m\u001b[0;34m.\u001b[0m\u001b[0m_RealGetContents\u001b[0m\u001b[0;34m(\u001b[0m\u001b[0;34m)\u001b[0m\u001b[0;34m\u001b[0m\u001b[0m\n\u001b[0m\u001b[1;32m    938\u001b[0m             \u001b[0;32melif\u001b[0m \u001b[0mkey\u001b[0m \u001b[0;34m==\u001b[0m \u001b[0;34m'w'\u001b[0m\u001b[0;34m:\u001b[0m\u001b[0;34m\u001b[0m\u001b[0m\n\u001b[1;32m    939\u001b[0m                 \u001b[0;31m# set the modified flag so central directory gets written\u001b[0m\u001b[0;34m\u001b[0m\u001b[0;34m\u001b[0m\u001b[0m\n",
      "\u001b[0;32m/Users/Neuromancer/anaconda/envs/myenv3/lib/python3.4/zipfile.py\u001b[0m in \u001b[0;36m_RealGetContents\u001b[0;34m(self)\u001b[0m\n\u001b[1;32m    972\u001b[0m         \u001b[0mfp\u001b[0m \u001b[0;34m=\u001b[0m \u001b[0mself\u001b[0m\u001b[0;34m.\u001b[0m\u001b[0mfp\u001b[0m\u001b[0;34m\u001b[0m\u001b[0m\n\u001b[1;32m    973\u001b[0m         \u001b[0;32mtry\u001b[0m\u001b[0;34m:\u001b[0m\u001b[0;34m\u001b[0m\u001b[0m\n\u001b[0;32m--> 974\u001b[0;31m             \u001b[0mendrec\u001b[0m \u001b[0;34m=\u001b[0m \u001b[0m_EndRecData\u001b[0m\u001b[0;34m(\u001b[0m\u001b[0mfp\u001b[0m\u001b[0;34m)\u001b[0m\u001b[0;34m\u001b[0m\u001b[0m\n\u001b[0m\u001b[1;32m    975\u001b[0m         \u001b[0;32mexcept\u001b[0m \u001b[0mOSError\u001b[0m\u001b[0;34m:\u001b[0m\u001b[0;34m\u001b[0m\u001b[0m\n\u001b[1;32m    976\u001b[0m             \u001b[0;32mraise\u001b[0m \u001b[0mBadZipFile\u001b[0m\u001b[0;34m(\u001b[0m\u001b[0;34m\"File is not a zip file\"\u001b[0m\u001b[0;34m)\u001b[0m\u001b[0;34m\u001b[0m\u001b[0m\n",
      "\u001b[0;32m/Users/Neuromancer/anaconda/envs/myenv3/lib/python3.4/zipfile.py\u001b[0m in \u001b[0;36m_EndRecData\u001b[0;34m(fpin)\u001b[0m\n\u001b[1;32m    235\u001b[0m \u001b[0;34m\u001b[0m\u001b[0m\n\u001b[1;32m    236\u001b[0m     \u001b[0;31m# Determine file size\u001b[0m\u001b[0;34m\u001b[0m\u001b[0;34m\u001b[0m\u001b[0m\n\u001b[0;32m--> 237\u001b[0;31m     \u001b[0mfpin\u001b[0m\u001b[0;34m.\u001b[0m\u001b[0mseek\u001b[0m\u001b[0;34m(\u001b[0m\u001b[0;36m0\u001b[0m\u001b[0;34m,\u001b[0m \u001b[0;36m2\u001b[0m\u001b[0;34m)\u001b[0m\u001b[0;34m\u001b[0m\u001b[0m\n\u001b[0m\u001b[1;32m    238\u001b[0m     \u001b[0mfilesize\u001b[0m \u001b[0;34m=\u001b[0m \u001b[0mfpin\u001b[0m\u001b[0;34m.\u001b[0m\u001b[0mtell\u001b[0m\u001b[0;34m(\u001b[0m\u001b[0;34m)\u001b[0m\u001b[0;34m\u001b[0m\u001b[0m\n\u001b[1;32m    239\u001b[0m \u001b[0;34m\u001b[0m\u001b[0m\n",
      "\u001b[0;31mAttributeError\u001b[0m: 'bytes' object has no attribute 'seek'"
     ]
    }
   ],
   "source": [
    "import requests\n",
    "zip_file_url = 'https://www.kaggle.com/c/otto-group-product-classification-challenge/download/train.csv.zip'\n",
    "results = requests.get(zip_file_url)\n",
    "zip = zipfile.ZipFile(results.content)"
   ]
  },
  {
   "cell_type": "code",
   "execution_count": 14,
   "metadata": {
    "collapsed": false
   },
   "outputs": [
    {
     "ename": "NameError",
     "evalue": "name 'get_zip_data' is not defined",
     "output_type": "error",
     "traceback": [
      "\u001b[0;31m---------------------------------------------------------------------------\u001b[0m",
      "\u001b[0;31mNameError\u001b[0m                                 Traceback (most recent call last)",
      "\u001b[0;32m<ipython-input-14-023e2a445309>\u001b[0m in \u001b[0;36m<module>\u001b[0;34m()\u001b[0m\n\u001b[1;32m      1\u001b[0m \u001b[0;32mfrom\u001b[0m \u001b[0mio\u001b[0m \u001b[0;32mimport\u001b[0m \u001b[0mStringIO\u001b[0m\u001b[0;34m\u001b[0m\u001b[0m\n\u001b[1;32m      2\u001b[0m \u001b[0mzipdata\u001b[0m \u001b[0;34m=\u001b[0m \u001b[0mStringIO\u001b[0m\u001b[0;34m(\u001b[0m\u001b[0;34m)\u001b[0m\u001b[0;34m\u001b[0m\u001b[0m\n\u001b[0;32m----> 3\u001b[0;31m \u001b[0mzipdata\u001b[0m\u001b[0;34m.\u001b[0m\u001b[0mwrite\u001b[0m\u001b[0;34m(\u001b[0m\u001b[0mget_zip_data\u001b[0m\u001b[0;34m(\u001b[0m\u001b[0;34m)\u001b[0m\u001b[0;34m)\u001b[0m\u001b[0;34m\u001b[0m\u001b[0m\n\u001b[0m\u001b[1;32m      4\u001b[0m \u001b[0mmyzipfile\u001b[0m \u001b[0;34m=\u001b[0m \u001b[0mzipfile\u001b[0m\u001b[0;34m.\u001b[0m\u001b[0mZipFile\u001b[0m\u001b[0;34m(\u001b[0m\u001b[0mzipdata\u001b[0m\u001b[0;34m)\u001b[0m\u001b[0;34m\u001b[0m\u001b[0m\n\u001b[1;32m      5\u001b[0m \u001b[0mfoofile\u001b[0m \u001b[0;34m=\u001b[0m \u001b[0mmyzipfile\u001b[0m\u001b[0;34m.\u001b[0m\u001b[0mopen\u001b[0m\u001b[0;34m(\u001b[0m\u001b[0;34m'foo.txt'\u001b[0m\u001b[0;34m)\u001b[0m\u001b[0;34m\u001b[0m\u001b[0m\n",
      "\u001b[0;31mNameError\u001b[0m: name 'get_zip_data' is not defined"
     ]
    }
   ],
   "source": [
    "from io import StringIO\n",
    "zipdata = StringIO()\n",
    "zipdata.write(get_zip_data())\n",
    "myzipfile = zipfile.ZipFile(zipdata)\n",
    "foofile = myzipfile.open('foo.txt')\n",
    "print(foofile.read())"
   ]
  },
  {
   "cell_type": "code",
   "execution_count": 8,
   "metadata": {
    "collapsed": false
   },
   "outputs": [
    {
     "ename": "AssertionError",
     "evalue": "proxies must be a mapping",
     "output_type": "error",
     "traceback": [
      "\u001b[0;31m---------------------------------------------------------------------------\u001b[0m",
      "\u001b[0;31mAssertionError\u001b[0m                            Traceback (most recent call last)",
      "\u001b[0;32m<ipython-input-8-2a02e3910aaa>\u001b[0m in \u001b[0;36m<module>\u001b[0;34m()\u001b[0m\n\u001b[0;32m----> 1\u001b[0;31m \u001b[0murllib\u001b[0m\u001b[0;34m.\u001b[0m\u001b[0mrequest\u001b[0m\u001b[0;34m.\u001b[0m\u001b[0mURLopener\u001b[0m\u001b[0;34m(\u001b[0m\u001b[0;34m'https://www.kaggle.com/c/otto-group-product-classification-challenge/download/train.csv.zip'\u001b[0m\u001b[0;34m)\u001b[0m\u001b[0;34m\u001b[0m\u001b[0m\n\u001b[0m",
      "\u001b[0;32m/Users/Neuromancer/anaconda/envs/myenv3/lib/python3.4/urllib/request.py\u001b[0m in \u001b[0;36m__init__\u001b[0;34m(self, proxies, **x509)\u001b[0m\n\u001b[1;32m   1550\u001b[0m         \u001b[0;32mif\u001b[0m \u001b[0mproxies\u001b[0m \u001b[0;32mis\u001b[0m \u001b[0;32mNone\u001b[0m\u001b[0;34m:\u001b[0m\u001b[0;34m\u001b[0m\u001b[0m\n\u001b[1;32m   1551\u001b[0m             \u001b[0mproxies\u001b[0m \u001b[0;34m=\u001b[0m \u001b[0mgetproxies\u001b[0m\u001b[0;34m(\u001b[0m\u001b[0;34m)\u001b[0m\u001b[0;34m\u001b[0m\u001b[0m\n\u001b[0;32m-> 1552\u001b[0;31m         \u001b[0;32massert\u001b[0m \u001b[0mhasattr\u001b[0m\u001b[0;34m(\u001b[0m\u001b[0mproxies\u001b[0m\u001b[0;34m,\u001b[0m \u001b[0;34m'keys'\u001b[0m\u001b[0;34m)\u001b[0m\u001b[0;34m,\u001b[0m \u001b[0;34m\"proxies must be a mapping\"\u001b[0m\u001b[0;34m\u001b[0m\u001b[0m\n\u001b[0m\u001b[1;32m   1553\u001b[0m         \u001b[0mself\u001b[0m\u001b[0;34m.\u001b[0m\u001b[0mproxies\u001b[0m \u001b[0;34m=\u001b[0m \u001b[0mproxies\u001b[0m\u001b[0;34m\u001b[0m\u001b[0m\n\u001b[1;32m   1554\u001b[0m         \u001b[0mself\u001b[0m\u001b[0;34m.\u001b[0m\u001b[0mkey_file\u001b[0m \u001b[0;34m=\u001b[0m \u001b[0mx509\u001b[0m\u001b[0;34m.\u001b[0m\u001b[0mget\u001b[0m\u001b[0;34m(\u001b[0m\u001b[0;34m'key_file'\u001b[0m\u001b[0;34m)\u001b[0m\u001b[0;34m\u001b[0m\u001b[0m\n",
      "\u001b[0;31mAssertionError\u001b[0m: proxies must be a mapping"
     ]
    }
   ],
   "source": [
    "urllib.request.URLopener('https://www.kaggle.com/c/otto-group-product-classification-challenge/download/train.csv.zip')"
   ]
  },
  {
   "cell_type": "code",
   "execution_count": 18,
   "metadata": {
    "collapsed": false
   },
   "outputs": [
    {
     "ename": "NameError",
     "evalue": "name 'get_zip_data' is not defined",
     "output_type": "error",
     "traceback": [
      "\u001b[0;31m---------------------------------------------------------------------------\u001b[0m",
      "\u001b[0;31mNameError\u001b[0m                                 Traceback (most recent call last)",
      "\u001b[0;32m<ipython-input-18-ba9ba9ed98b1>\u001b[0m in \u001b[0;36m<module>\u001b[0;34m()\u001b[0m\n\u001b[0;32m----> 1\u001b[0;31m \u001b[0mmyzipfile\u001b[0m \u001b[0;34m=\u001b[0m \u001b[0mzipfile\u001b[0m\u001b[0;34m.\u001b[0m\u001b[0mZipFile\u001b[0m\u001b[0;34m(\u001b[0m\u001b[0mStringIO\u001b[0m\u001b[0;34m(\u001b[0m\u001b[0mget_zip_data\u001b[0m\u001b[0;34m(\u001b[0m\u001b[0;34m)\u001b[0m\u001b[0;34m)\u001b[0m\u001b[0;34m)\u001b[0m\u001b[0;34m\u001b[0m\u001b[0m\n\u001b[0m\u001b[1;32m      2\u001b[0m \u001b[0;31m#for name in myzipfile.namelist():\u001b[0m\u001b[0;34m\u001b[0m\u001b[0;34m\u001b[0m\u001b[0m\n\u001b[1;32m      3\u001b[0m     \u001b[0;31m#print(name)\u001b[0m\u001b[0;34m\u001b[0m\u001b[0;34m\u001b[0m\u001b[0m\n",
      "\u001b[0;31mNameError\u001b[0m: name 'get_zip_data' is not defined"
     ]
    }
   ],
   "source": [
    "myzipfile = zipfile.ZipFile(StringIO(get_zip_data()))\n",
    "#for name in myzipfile.namelist():\n",
    "    #print(name)"
   ]
  },
  {
   "cell_type": "code",
   "execution_count": 2,
   "metadata": {
    "collapsed": false
   },
   "outputs": [
    {
     "ename": "FileNotFoundError",
     "evalue": "[Errno 2] No such file or directory: 'https://www.kaggle.com/c/otto-group-product-classification-challenge/download/train.csv.zip'",
     "output_type": "error",
     "traceback": [
      "\u001b[0;31m---------------------------------------------------------------------------\u001b[0m",
      "\u001b[0;31mFileNotFoundError\u001b[0m                         Traceback (most recent call last)",
      "\u001b[0;32m<ipython-input-2-3da4fa504914>\u001b[0m in \u001b[0;36m<module>\u001b[0;34m()\u001b[0m\n\u001b[1;32m      2\u001b[0m \u001b[0;31m# Read the file as a zipfile and process the members\u001b[0m\u001b[0;34m\u001b[0m\u001b[0;34m\u001b[0m\u001b[0m\n\u001b[1;32m      3\u001b[0m \u001b[0mb\u001b[0m \u001b[0;34m=\u001b[0m \u001b[0;34m\"https://www.kaggle.com/c/otto-group-product-classification-challenge/download/train.csv.zip\"\u001b[0m\u001b[0;34m\u001b[0m\u001b[0m\n\u001b[0;32m----> 4\u001b[0;31m \u001b[0;32mwith\u001b[0m \u001b[0mzipfile\u001b[0m\u001b[0;34m.\u001b[0m\u001b[0mZipFile\u001b[0m\u001b[0;34m(\u001b[0m\u001b[0mb\u001b[0m\u001b[0;34m,\u001b[0m \u001b[0mmode\u001b[0m\u001b[0;34m=\u001b[0m\u001b[0;34m'r'\u001b[0m\u001b[0;34m)\u001b[0m \u001b[0;32mas\u001b[0m \u001b[0mzipf\u001b[0m\u001b[0;34m:\u001b[0m\u001b[0;34m\u001b[0m\u001b[0m\n\u001b[0m\u001b[1;32m      5\u001b[0m         \u001b[0;32mfor\u001b[0m \u001b[0msubfile\u001b[0m \u001b[0;32min\u001b[0m \u001b[0mzipf\u001b[0m\u001b[0;34m.\u001b[0m\u001b[0mnamelist\u001b[0m\u001b[0;34m(\u001b[0m\u001b[0;34m)\u001b[0m\u001b[0;34m:\u001b[0m\u001b[0;34m\u001b[0m\u001b[0m\n\u001b[1;32m      6\u001b[0m             \u001b[0mprint\u001b[0m\u001b[0;34m(\u001b[0m\u001b[0msubfile\u001b[0m\u001b[0;34m)\u001b[0m\u001b[0;34m\u001b[0m\u001b[0m\n",
      "\u001b[0;32m/Users/Neuromancer/anaconda/envs/myenv3/lib/python3.4/zipfile.py\u001b[0m in \u001b[0;36m__init__\u001b[0;34m(self, file, mode, compression, allowZip64)\u001b[0m\n\u001b[1;32m    921\u001b[0m             \u001b[0mmodeDict\u001b[0m \u001b[0;34m=\u001b[0m \u001b[0;34m{\u001b[0m\u001b[0;34m'r'\u001b[0m \u001b[0;34m:\u001b[0m \u001b[0;34m'rb'\u001b[0m\u001b[0;34m,\u001b[0m \u001b[0;34m'w'\u001b[0m\u001b[0;34m:\u001b[0m \u001b[0;34m'wb'\u001b[0m\u001b[0;34m,\u001b[0m \u001b[0;34m'a'\u001b[0m \u001b[0;34m:\u001b[0m \u001b[0;34m'r+b'\u001b[0m\u001b[0;34m}\u001b[0m\u001b[0;34m\u001b[0m\u001b[0m\n\u001b[1;32m    922\u001b[0m             \u001b[0;32mtry\u001b[0m\u001b[0;34m:\u001b[0m\u001b[0;34m\u001b[0m\u001b[0m\n\u001b[0;32m--> 923\u001b[0;31m                 \u001b[0mself\u001b[0m\u001b[0;34m.\u001b[0m\u001b[0mfp\u001b[0m \u001b[0;34m=\u001b[0m \u001b[0mio\u001b[0m\u001b[0;34m.\u001b[0m\u001b[0mopen\u001b[0m\u001b[0;34m(\u001b[0m\u001b[0mfile\u001b[0m\u001b[0;34m,\u001b[0m \u001b[0mmodeDict\u001b[0m\u001b[0;34m[\u001b[0m\u001b[0mmode\u001b[0m\u001b[0;34m]\u001b[0m\u001b[0;34m)\u001b[0m\u001b[0;34m\u001b[0m\u001b[0m\n\u001b[0m\u001b[1;32m    924\u001b[0m             \u001b[0;32mexcept\u001b[0m \u001b[0mOSError\u001b[0m\u001b[0;34m:\u001b[0m\u001b[0;34m\u001b[0m\u001b[0m\n\u001b[1;32m    925\u001b[0m                 \u001b[0;32mif\u001b[0m \u001b[0mmode\u001b[0m \u001b[0;34m==\u001b[0m \u001b[0;34m'a'\u001b[0m\u001b[0;34m:\u001b[0m\u001b[0;34m\u001b[0m\u001b[0m\n",
      "\u001b[0;31mFileNotFoundError\u001b[0m: [Errno 2] No such file or directory: 'https://www.kaggle.com/c/otto-group-product-classification-challenge/download/train.csv.zip'"
     ]
    }
   ],
   "source": [
    "import zipfile\n",
    "import io\n",
    "\n",
    "with io.BytesIO() as b:\n",
    "\n",
    "    # Read the file into it\n",
    "    key.get_file(b)\n",
    "\n",
    "    # Reset the file pointer to the beginning\n",
    "    b.seek(0)\n",
    "\n",
    "    # Read the file as a zipfile and process the members\n",
    "    with zipfile.ZipFile(b, mode='r') as zipf:\n",
    "        for subfile in zipf.namelist():\n",
    "            do_stuff_with_subfile()\n",
    "# Read the file as a zipfile and process the members\n",
    "b = \"https://www.kaggle.com/c/otto-group-product-classification-challenge/download/train.csv.zip\"\n",
    "with zipfile.ZipFile(b, mode='r') as zipf:\n",
    "        for subfile in zipf.namelist():\n",
    "            print(subfile)\n",
    "    \n",
    "            \n",
    "            \n"
   ]
  },
  {
   "cell_type": "code",
   "execution_count": 19,
   "metadata": {
    "collapsed": true
   },
   "outputs": [],
   "source": [
    "import requests"
   ]
  },
  {
   "cell_type": "code",
   "execution_count": 20,
   "metadata": {
    "collapsed": true
   },
   "outputs": [],
   "source": [
    "zip_file_url = 'https://www.kaggle.com/c/otto-group-product-classification-challenge/download/train.csv.zip'\n",
    "r = requests.get(zip_file_url)"
   ]
  },
  {
   "cell_type": "code",
   "execution_count": 29,
   "metadata": {
    "collapsed": false
   },
   "outputs": [
    {
     "ename": "TypeError",
     "evalue": "'str' does not support the buffer interface",
     "output_type": "error",
     "traceback": [
      "\u001b[0;31m---------------------------------------------------------------------------\u001b[0m",
      "\u001b[0;31mTypeError\u001b[0m                                 Traceback (most recent call last)",
      "\u001b[0;32m<ipython-input-29-b94fc52517b1>\u001b[0m in \u001b[0;36m<module>\u001b[0;34m()\u001b[0m\n\u001b[0;32m----> 1\u001b[0;31m \u001b[0mzipfile\u001b[0m\u001b[0;34m.\u001b[0m\u001b[0mZipInfo\u001b[0m\u001b[0;34m(\u001b[0m\u001b[0mr\u001b[0m\u001b[0;34m.\u001b[0m\u001b[0mcontent\u001b[0m\u001b[0;34m)\u001b[0m\u001b[0;34m\u001b[0m\u001b[0m\n\u001b[0m",
      "\u001b[0;32m/Users/Neuromancer/anaconda/envs/myenv3/lib/python3.4/zipfile.py\u001b[0m in \u001b[0;36m__init__\u001b[0;34m(self, filename, date_time)\u001b[0m\n\u001b[1;32m    319\u001b[0m         \u001b[0;31m# Terminate the file name at the first null byte.  Null bytes in file\u001b[0m\u001b[0;34m\u001b[0m\u001b[0;34m\u001b[0m\u001b[0m\n\u001b[1;32m    320\u001b[0m         \u001b[0;31m# names are used as tricks by viruses in archives.\u001b[0m\u001b[0;34m\u001b[0m\u001b[0;34m\u001b[0m\u001b[0m\n\u001b[0;32m--> 321\u001b[0;31m         \u001b[0mnull_byte\u001b[0m \u001b[0;34m=\u001b[0m \u001b[0mfilename\u001b[0m\u001b[0;34m.\u001b[0m\u001b[0mfind\u001b[0m\u001b[0;34m(\u001b[0m\u001b[0mchr\u001b[0m\u001b[0;34m(\u001b[0m\u001b[0;36m0\u001b[0m\u001b[0;34m)\u001b[0m\u001b[0;34m)\u001b[0m\u001b[0;34m\u001b[0m\u001b[0m\n\u001b[0m\u001b[1;32m    322\u001b[0m         \u001b[0;32mif\u001b[0m \u001b[0mnull_byte\u001b[0m \u001b[0;34m>=\u001b[0m \u001b[0;36m0\u001b[0m\u001b[0;34m:\u001b[0m\u001b[0;34m\u001b[0m\u001b[0m\n\u001b[1;32m    323\u001b[0m             \u001b[0mfilename\u001b[0m \u001b[0;34m=\u001b[0m \u001b[0mfilename\u001b[0m\u001b[0;34m[\u001b[0m\u001b[0;36m0\u001b[0m\u001b[0;34m:\u001b[0m\u001b[0mnull_byte\u001b[0m\u001b[0;34m]\u001b[0m\u001b[0;34m\u001b[0m\u001b[0m\n",
      "\u001b[0;31mTypeError\u001b[0m: 'str' does not support the buffer interface"
     ]
    }
   ],
   "source": [
    "zipfile.ZipInfo(r.content)"
   ]
  },
  {
   "cell_type": "code",
   "execution_count": 52,
   "metadata": {
    "collapsed": false
   },
   "outputs": [
    {
     "data": {
      "text/plain": [
       "'\\r\\n\\r\\n<!DOCTYPE html>\\r\\n\\r\\n<!--[if lt IE 7 ]><html class=\"ie ie6 lte7 lte8 lte9\"><![endif]-->\\r\\n<!--[if IE 7 ]><html class=\"ie ie7 lte7 lte8 lte9\"><![endif]-->\\r\\n<!--[if IE 8 ]><html class=\"ie ie8 lte8 lte9\"><![endif]-->\\r\\n<!--[if IE 9 ]><html class=\"ie ie9 lte9\"><![endif]-->\\r\\n<!--[if (gt IE 9)|!(IE)]><!--><html ><!--<![endif]-->\\r\\n\\r\\n<head>\\r\\n    <link href=\\'//fonts.googleapis.com/css?family=Merriweather:400,700|Open+Sans:300,400italic,700italic,400,700\\' rel=\\'stylesheet\\' type=\\'text/css\\'> \\r\\n\\r\\n    \\r\\n    <link rel=\"stylesheet\" href=\"/content/v/bbdad30669ee/shared/css/font-awesome.min.css\">\\r\\n\\r\\n    \\r\\n    \\r\\n    <title>Login | Kaggle</title>\\r\\n    <meta http-equiv=\"Content-Type\" content=\"text/html; charset=utf-8\" />\\r\\n    <meta name=\"robots\" content=\"index, follow\" />\\r\\n    <link href=\"/content/v/4e3f994e938b/kaggle/favicon.ico\" rel=\"shortcut icon\" type=\"image/x-icon\" />\\r\\n\\r\\n    \\r\\n        <meta name=\"keywords\" content=\"Kaggle, data science, big analytics, data mining, forecasting, statistics, prediction, bioinformatics, competitions, contests, crowdsourced analytics\" />\\r\\n            <meta name=\"description\" content=\"Kaggle is a platform for data prediction competitions. Companies, organizations and researchers post their data and have it scrutinized by the world&#39;s best statisticians.\" />\\r\\n\\r\\n            <link rel=\"stylesheet\" href=\"/content/v/f779fdabea7a/shared/css/base.less\" type=\"text/css\" />\\r\\n        <link rel=\"stylesheet\" href=\"/content/v/4b4de64aa988/kaggle/css/kaggle-site.less\" type=\"text/css\" />\\r\\n\\r\\n        <script type=\"text/javascript\" src=\"/content/v/47b68dce8cb6/shared/js/jquery-1.7.2.min.js\"></script>\\r\\n            <script type=\"text/javascript\" src=\"/content/v/7846b5904b60/shared/js/jquery-ui-1.9.2.min.js\"></script>\\r\\n\\r\\n    \\r\\n        <script type=\"text/javascript\" src=\"/content/v/a60ecf3c5c7d/shared/js/kaggle.min.js\"></script>\\r\\n        <script type=\"text/javascript\">\\r\\n            \\r\\n            Kaggle.Current.siteId = 1;\\r\\n                    </script>\\r\\n\\r\\n    \\r\\n    <!--[if (gte IE 6)&(lte IE 8)]>\\r\\n        <script type=\"text/javascript\" src=\"/content/v/f1f17fea7cee/shared/js/ie/selectivizr.min.js\"></script>\\r\\n    <![endif]-->\\r\\n\\r\\n    \\r\\n                                        \\r\\n                                                                \\r\\n                    <link rel=\"apple-touch-icon\" href=\"/content/v/1e4cdaa83f46/kaggle/img/apple-touch-icon.png\" />\\r\\n\\r\\n\\r\\n    \\r\\n    <!--[if lt IE 9]>\\r\\n        <script src=\"//html5shim.googlecode.com/svn/trunk/html5.js\"></script>\\r\\n    <![endif]-->\\r\\n</head>\\r\\n<body class=\"logged-out    kaggle  \">\\r\\n    <div id=\"wrap\"><!-- needed for sticky footer -->\\r\\n<div id=\"menu-open-overlay\"></div>\\r\\n\\r\\n<div id=\"header2\">\\r\\n    <div id=\"header2-inside\">    \\r\\n        <a id=\"logo\" href=\"/\"><img alt=\"Kaggle\" height=\"86\" src=\"/content/v/d6801c936e94/kaggle/img/site-logo.png\" width=\"240\" /></a>\\r\\n\\r\\n            <ul id=\"header-ul\">\\r\\n                <li>\\r\\n  <a href=\"/solutions/competitions\">Host</a>\\r\\n</li>\\r\\n<li>\\r\\n  <a href=\"/competitions\">Competitions</a>\\r\\n</li>\\r\\n<li>\\r\\n  <a href=\"/jobs\">Jobs</a>\\r\\n</li>\\r\\n<li>\\r\\n<a href=\"\">Community &#9662;</a>\\r\\n<ul>\\r\\n  <li><a href=\\'/users\\'>User Rankings</a></li>\\r\\n  <li><a href=\\'/forums\\'>Forum</a></li>\\r\\n  <!--<li><a href=\"/jobs\">Jobs Board</a></li>-->\\r\\n  <li><a href=\"http://blog.kaggle.com\" target=\"_blank\">Blog</a></li>\\r\\n  <li><a href=\\'/Wiki\\'>Wiki</a></li>\\r\\n</ul>\\r\\n</li><!-- <script>\\r\\n  $(function(){\\r\\n    if (!$(\\'body.logged-in\\').length) {\\r\\n      $(\\'a.logged-in-only\\').hide().parent().next().find(\\'a\\').css(\\'padding-top\\',\\'10px\\');\\r\\n    }\\r\\n  });\\r\\n</script> -->\\r\\n            </ul>\\r\\n\\r\\n        <script>\\r\\n            jQuery(function () {\\r\\n                jQuery(\\'#header-ul li:has(ul) > a\\').click(function(e) {\\r\\n                    e.preventDefault();\\r\\n                    \\r\\n                    jQuery(\\'#header-ul li\\').not(jQuery(this).parent()).find(\\'ul\\').removeClass(\\'open\\');\\r\\n                    jQuery(this).parent().find(\\'ul\\').toggleClass(\\'open\\');\\r\\n                    jQuery(\\'#menu-open-overlay\\').show();\\r\\n                });\\r\\n\\r\\n                jQuery(\\'#menu-open-overlay\\').click( function() {\\r\\n                    jQuery(\\'#header-ul ul\\').removeClass(\\'open\\');\\r\\n                    jQuery(\\'#top-bar-signin\\').hide();\\r\\n                    jQuery(this).hide();\\r\\n                });\\r\\n\\r\\n            });\\r\\n        </script>\\r\\n    \\r\\n        <ul id=\"header-control\">\\r\\n                <li id=\"header-signup\"><a href=\"/account/register\"><strong><text>Sign up</text></strong></a></li>  \\r\\n                <li id=\"header-login\">\\r\\n                    <a href=\"/account/login?returnUrl=%2Faccount%2Flogin%3FReturnUrl%3D%252fc%252fotto-group-product-classification-challenge%252fdownload%252ftrain.csv.zip\" class=\"login-link\">Login</a>\\r\\n                </li>      \\r\\n        </ul>\\r\\n            <div id=\"top-bar-signin\">    \\r\\n                <div id=\"social-authentication-top\">\\r\\n    <div id=\"social-authentication-top-head\">\\r\\n        Log in<br/>\\r\\n        with &mdash;\\r\\n    </div>\\r\\n    <div id=\"social-authentication-top-buttons\">\\r\\n        <a href=\"/account/authenticate/facebook\" class=\"socialSignIn facebook\" title=\"Log in with Facebook\"><img src=\"/content/v/f5274345ad7a/shared/img/auth-facebook.png\" width=\"36\" height=\"36\" alt=\"Sign up with Facebook\" title=\"Sign up with Facebook\" /></a>\\r\\n        <a href=\"/account/authenticate/google\" class=\"socialSignIn google\" title=\"Log in with Google\"><img src=\"/content/v/d6df56991e32/shared/img/auth-google.png\" width=\"36\" height=\"36\" alt=\"Sign up with Google\" title=\"Sign up with Google\" /></a>\\r\\n        <a href=\"/account/authenticate/yahoo\" class=\"socialSignIn yahoo\" title=\"Log in with Yahoo\"><img src=\"/content/v/ca50427b37b7/shared/img/auth-yahoo.png\" width=\"36\" height=\"36\" alt=\"Sign up with Yahoo\" title=\"Sign up with Yahoo\" /></a>\\r\\n    </div>\\r\\n    \\r\\n    <script type=\"text/javascript\">\\r\\n        var socialSignInLinks = $(\\'a.socialSignIn\\');\\r\\n        socialSignInLinks.attr(\"href\", function(i,v){\\r\\n            return v + \\'?js=1\\';\\r\\n        });\\r\\n        socialSignInLinks.click(function(){\\r\\n            _gaq.push([\\'_trackEvent\\', \\'action\\', \\'login\\', \\'top-bar\\']);\\r\\n            return true;\\r\\n        });\\r\\n    </script>\\r\\n</div>\\r\\n    \\r\\n\\r\\n<form action=\"/account/login\" id=\"signin\" method=\"post\"><input id=\"returnUrl\" name=\"returnUrl\" type=\"hidden\" value=\"https://www.kaggle.com/account/login?ReturnUrl=%2fc%2fotto-group-product-classification-challenge%2fdownload%2ftrain.csv.zip\" /><input data-val=\"true\" data-val-length=\"The field User name must be a string with a minimum length of 2 and a maximum length of 255.\" data-val-length-max=\"255\" data-val-length-min=\"2\" data-val-required=\"The User name field is required.\" id=\"UserName\" name=\"UserName\" placeholder=\"Email / username\" type=\"text\" value=\"\" /><span class=\"field-validation-valid\" data-valmsg-for=\"UserName\" data-valmsg-replace=\"true\"></span><input data-val=\"true\" data-val-length=\"The field Password must be a string with a minimum length of 1 and a maximum length of 255.\" data-val-length-max=\"255\" data-val-length-min=\"1\" data-val-required=\"The Password field is required.\" id=\"Password\" name=\"Password\" placeholder=\"Password\" type=\"password\" /><span class=\"field-validation-valid\" data-valmsg-for=\"Password\" data-valmsg-replace=\"true\"></span>    <div id=\"remember-me\">\\r\\n        <input data-val=\"true\" data-val-required=\"The Remember me? field is required.\" id=\"RememberMe\" name=\"RememberMe\" type=\"checkbox\" value=\"true\" /><input name=\"RememberMe\" type=\"hidden\" value=\"false\" />            \\r\\n        <label for=\"RememberMe\">Remember me?</label>\\r\\n    </div>   \\r\\n    <input type=\"submit\" value=\"Login\" />\\r\\n<input name=\"__RequestVerificationToken\" type=\"hidden\" value=\"Te-uAaMcfsp979mrKklpZ1WTdlfe8iygm9gfgMuuyW4pVAZyoTWXkmzGoTntxLhh_tQPlLoseIXsjfz90gTL2lxiKq01\" />    <input id=\"signinjs\" type=\"hidden\" name=\"JavaScriptEnabled\" value=\"false\" />    \\r\\n</form>\\r\\n<script type=\"text/javascript\">\\r\\n    $(\\'#signinjs\\').attr(\\'value\\', \\'true\\');\\r\\n    $(\\'#signin\\').submit(function () { _gaq.push([\\'_trackEvent\\', \\'action\\', \\'login\\', \\'top-bar\\']); });\\r\\n</script>\\r\\n\\r\\n<div id=\"forgot-links\">        \\r\\n    Forgot your <a href=\"/forgot/username\">Username</a> \\r\\n    / \\r\\n    <a href=\"/forgot/password\">Password</a>?\\r\\n</div>\\r\\n\\r\\n            </div>\\r\\n            <script>\\r\\n                jQuery(function () {\\r\\n                    jQuery(\\'.login-link\\').click(function (e) {\\r\\n                        e.preventDefault();\\r\\n                        jQuery(\\'#top-bar-signin\\').toggle();\\r\\n                        jQuery(\\'#menu-open-overlay\\').toggle();\\r\\n                        if (jQuery(\\'#top-bar-signin\\').is(\":visible\")) {\\r\\n                            jQuery(\\'#UserName\\').focus();\\r\\n                        }\\r\\n                    });\\r\\n                });\\r\\n            </script>\\r\\n    </div>\\r\\n</div>\\r\\n\\r\\n\\r\\n\\r\\n\\r\\n\\r\\n        \\r\\n\\r\\n        <!-- header-inside and header -->\\r\\n\\r\\n<div id=\"standalone-signin\">\\r\\n    <div class=\"validation-summary-valid\" data-valmsg-summary=\"true\"><ul><li style=\"display:none\"></li>\\r\\n</ul></div>\\r\\n    <form action=\"/account/login\" id=\"login-account\" method=\"post\">    <fieldset id=\"social-authentication\">\\r\\n        <a href=\"/account/authenticate/facebook\" class=\"standaloneSocialSignIn\" title=\"Login with Facebook\"><img width=\\'95\\' height=\"95\" src=\"/content/v/f5274345ad7a/shared/img/auth-facebook.png\" alt=\"Login with Facebook\" /></a>\\r\\n        <a href=\"/account/authenticate/google\" class=\"standaloneSocialSignIn\" title=\"Login with Google\"><img width=\\'95\\' height=\"95\" src=\"/content/v/d6df56991e32/shared/img/auth-google.png\" alt=\"Login with Google\" /></a>\\r\\n        <a href=\"/account/authenticate/yahoo\" class=\"standaloneSocialSignIn\" title=\"Login with Yahoo\"><img width=\\'95\\' height=\"95\" src=\"/content/v/ca50427b37b7/shared/img/auth-yahoo.png\" alt=\"Login with Yahoo\" /></a>\\r\\n        \\r\\n    </fieldset> \\r\\n<script type=\"text/javascript\">\\r\\n        var standaloneSocialSignInLinks = $(\\'a.standaloneSocialSignIn\\');\\r\\n        standaloneSocialSignInLinks.attr(\"href\", function(i,v){\\r\\n            return v + \\'?js=1\\';\\r\\n        });\\r\\n        standaloneSocialSignInLinks.click(function(){\\r\\n            _gaq.push([\\'_trackEvent\\', \\'action\\', \\'login\\', \\'standalone\\']);\\r\\n            return true;\\r\\n        });\\r\\n    </script>    <fieldset>\\r\\n        \\r\\n        <div class=\"field\">\\r\\n            <label>Email / username</label>\\r\\n            <a href=\"/forgot/username\" class=\"field-forgot-link\" tabindex=\"4\">Forgot username?</a>\\r\\n            <input data-val=\"true\" data-val-length=\"The field User name must be a string with a minimum length of 2 and a maximum length of 255.\" data-val-length-max=\"255\" data-val-length-min=\"2\" data-val-required=\"The User name field is required.\" id=\"UserName\" name=\"UserName\" tabindex=\"1\" type=\"text\" value=\"\" />\\r\\n            <span class=\"field-validation-valid\" data-valmsg-for=\"UserName\" data-valmsg-replace=\"true\"></span>\\r\\n        </div>\\r\\n\\r\\n        <div class=\"field\">\\r\\n            <label for=\"Password\">Password</label>\\r\\n            <a href=\"/forgot/password\" class=\"field-forgot-link\" tabindex=\"5\">Forgot password?</a>\\r\\n            <input data-val=\"true\" data-val-length=\"The field Password must be a string with a minimum length of 1 and a maximum length of 255.\" data-val-length-max=\"255\" data-val-length-min=\"1\" data-val-required=\"The Password field is required.\" id=\"Password\" name=\"Password\" tabindex=\"2\" type=\"password\" />\\r\\n            <span class=\"field-validation-valid\" data-valmsg-for=\"Password\" data-valmsg-replace=\"true\"></span>\\r\\n        </div>\\r\\n\\r\\n        <div class=\"field\">\\r\\n            <input id=\"get-started\" type=\"submit\" value = \"Login\" tabindex=\"3\" />\\r\\n            <input id=\"standalonesigninjs\" type=\"hidden\" name=\"JavaScriptEnabled\" value=\"false\" />\\r\\n        </div>\\r\\n          \\r\\n    </fieldset>   \\r\\n</form>\\r\\n<script type=\"text/javascript\">\\r\\n    $(\\'#standalonesigninjs\\').attr(\\'value\\', \\'true\\');\\r\\n    $(\\'#login-account\\').submit(function () { _gaq.push([\\'_trackEvent\\', \\'action\\', \\'login\\', \\'standalone\\']); });\\r\\n</script>\\r\\n\\r\\n<div id=\"login-page-signup\" class=\"no-oauth\">\\r\\n    <label><a href=\"/account/register\" tabindex=\"6\">Create an account &raquo;</a></label>\\r\\n</div>\\r\\n \\r\\n\\r\\n\\r\\n</div>\\r\\n    </div> <!-- wrap -->\\r\\n    <div id=\"footer\">\\r\\n        <div id=\"footer-inside\">\\r\\n            <div id=\"footer-social\">\\r\\n                    <div id=\"social-links\">\\r\\n            <a class=\"twitter\" href=\"http://www.twitter.com/kaggle\" title=\"Follow Kaggle on Twitter\"></a>     \\r\\n                    <a class=\"facebook\" href=\"http://www.facebook.com/kaggle\" title=\"Follow Kaggle on Facebook\"></a>           \\r\\n                    <a class=\"linkedin\" href=\"http://www.linkedin.com/companies/kaggle\" title=\"Follow Kaggle on LinkedIn\"></a>        \\r\\n    </div><!-- social-links -->\\r\\n\\r\\n            </div>\\r\\n            <div id=\"footer-copyright\">\\r\\n                \\r\\n\\r\\n\\r\\n&copy; 2015 Kaggle Inc            </div>\\r\\n            <div id=\"footer-links\">\\r\\n                <a href=\"/about\">About</a>\\r\\n<a href=\"/team\">Our Team</a>\\r\\n<a href=\"/careers\">Careers</a>\\r\\n<a href=\"/terms\">Terms</a>\\r\\n<a href=\"/privacy\">Privacy</a> \\r\\n<!--<a href=\"/Home/ContactPress\">Press</a>-->\\r\\n<a href=\"/papers\">Papers</a>\\r\\n<a href=\"/Home/contact\">Contact/Support</a>\\r\\n            </div> <!-- footer-links -->\\r\\n        </div> <!-- footer-inside -->\\r\\n    </div> <!--footer-->\\r\\n\\r\\n        \\r\\n        <script type=\"text/javascript\">\\r\\n            var _gaq = _gaq || [];\\r\\n            _gaq.push([\\'_setAccount\\', \\'UA-12629138-1\\']);\\r\\n            _gaq.push([\\'_trackPageview\\']);\\r\\n            _gaq.push([\\'_trackPageLoadTime\\']);\\r\\n            _gaq.push([\\'_setCustomVar\\', 1, \\'usertype\\', \\'anonymous\\', 2]);\\r\\n            (function () {\\r\\n                var ga = document.createElement(\\'script\\'); ga.type = \\'text/javascript\\'; ga.async = true;\\r\\n                ga.src = (\\'https:\\' == document.location.protocol ? \\'https://ssl\\' : \\'http://www\\') + \\'.google-analytics.com/ga.js\\';\\r\\n                var s = document.getElementsByTagName(\\'script\\')[0]; s.parentNode.insertBefore(ga, s);\\r\\n            })();\\r\\n        </script>\\r\\n        <script type=\"text/javascript\">\\r\\n        /**\\r\\n        * Function that tracks a click on an outbound link in Google Analytics.\\r\\n        * This function takes a valid URL string as an argument, and uses that URL string\\r\\n        * as the event label.\\r\\n        * See: https://support.google.com/analytics/answer/1136920?hl=en\\r\\n        */\\r\\n        var trackOutboundLink = function(url) {\\r\\n            ga(\\'send\\', \\'event\\', \\'outbound\\', \\'click\\', url, {\\'hitCallback\\':\\r\\n              function () {\\r\\n                  document.location = url;\\r\\n              }\\r\\n            });\\r\\n        }\\r\\n        </script>\\r\\n\\r\\n    \\r\\n\\r\\n    <!-- Hiya 115.187.164.245! Cheers, RD00155D48672Fp -->\\r\\n</body>\\r\\n</html>\\r\\n'"
      ]
     },
     "execution_count": 52,
     "metadata": {},
     "output_type": "execute_result"
    }
   ],
   "source": [
    "import requests, zipfile\n",
    "from io import StringIO\n",
    "r = requests.get(zip_file_url)\n",
    "r.text\n",
    "#z = zipfile.ZipFile(r.content)\n",
    "#z.extractall()"
   ]
  },
  {
   "cell_type": "code",
   "execution_count": 39,
   "metadata": {
    "collapsed": false
   },
   "outputs": [
    {
     "ename": "AttributeError",
     "evalue": "'bytes' object has no attribute 'seek'",
     "output_type": "error",
     "traceback": [
      "\u001b[0;31m---------------------------------------------------------------------------\u001b[0m",
      "\u001b[0;31mAttributeError\u001b[0m                            Traceback (most recent call last)",
      "\u001b[0;32m<ipython-input-39-7d2b57827d79>\u001b[0m in \u001b[0;36m<module>\u001b[0;34m()\u001b[0m\n\u001b[0;32m----> 1\u001b[0;31m \u001b[0mzipfile\u001b[0m\u001b[0;34m.\u001b[0m\u001b[0mZipFile\u001b[0m\u001b[0;34m(\u001b[0m\u001b[0mr\u001b[0m\u001b[0;34m.\u001b[0m\u001b[0mcontent\u001b[0m\u001b[0;34m)\u001b[0m\u001b[0;34m\u001b[0m\u001b[0m\n\u001b[0m",
      "\u001b[0;32m/Users/Neuromancer/anaconda/envs/myenv3/lib/python3.4/zipfile.py\u001b[0m in \u001b[0;36m__init__\u001b[0;34m(self, file, mode, compression, allowZip64)\u001b[0m\n\u001b[1;32m    935\u001b[0m         \u001b[0;32mtry\u001b[0m\u001b[0;34m:\u001b[0m\u001b[0;34m\u001b[0m\u001b[0m\n\u001b[1;32m    936\u001b[0m             \u001b[0;32mif\u001b[0m \u001b[0mkey\u001b[0m \u001b[0;34m==\u001b[0m \u001b[0;34m'r'\u001b[0m\u001b[0;34m:\u001b[0m\u001b[0;34m\u001b[0m\u001b[0m\n\u001b[0;32m--> 937\u001b[0;31m                 \u001b[0mself\u001b[0m\u001b[0;34m.\u001b[0m\u001b[0m_RealGetContents\u001b[0m\u001b[0;34m(\u001b[0m\u001b[0;34m)\u001b[0m\u001b[0;34m\u001b[0m\u001b[0m\n\u001b[0m\u001b[1;32m    938\u001b[0m             \u001b[0;32melif\u001b[0m \u001b[0mkey\u001b[0m \u001b[0;34m==\u001b[0m \u001b[0;34m'w'\u001b[0m\u001b[0;34m:\u001b[0m\u001b[0;34m\u001b[0m\u001b[0m\n\u001b[1;32m    939\u001b[0m                 \u001b[0;31m# set the modified flag so central directory gets written\u001b[0m\u001b[0;34m\u001b[0m\u001b[0;34m\u001b[0m\u001b[0m\n",
      "\u001b[0;32m/Users/Neuromancer/anaconda/envs/myenv3/lib/python3.4/zipfile.py\u001b[0m in \u001b[0;36m_RealGetContents\u001b[0;34m(self)\u001b[0m\n\u001b[1;32m    972\u001b[0m         \u001b[0mfp\u001b[0m \u001b[0;34m=\u001b[0m \u001b[0mself\u001b[0m\u001b[0;34m.\u001b[0m\u001b[0mfp\u001b[0m\u001b[0;34m\u001b[0m\u001b[0m\n\u001b[1;32m    973\u001b[0m         \u001b[0;32mtry\u001b[0m\u001b[0;34m:\u001b[0m\u001b[0;34m\u001b[0m\u001b[0m\n\u001b[0;32m--> 974\u001b[0;31m             \u001b[0mendrec\u001b[0m \u001b[0;34m=\u001b[0m \u001b[0m_EndRecData\u001b[0m\u001b[0;34m(\u001b[0m\u001b[0mfp\u001b[0m\u001b[0;34m)\u001b[0m\u001b[0;34m\u001b[0m\u001b[0m\n\u001b[0m\u001b[1;32m    975\u001b[0m         \u001b[0;32mexcept\u001b[0m \u001b[0mOSError\u001b[0m\u001b[0;34m:\u001b[0m\u001b[0;34m\u001b[0m\u001b[0m\n\u001b[1;32m    976\u001b[0m             \u001b[0;32mraise\u001b[0m \u001b[0mBadZipFile\u001b[0m\u001b[0;34m(\u001b[0m\u001b[0;34m\"File is not a zip file\"\u001b[0m\u001b[0;34m)\u001b[0m\u001b[0;34m\u001b[0m\u001b[0m\n",
      "\u001b[0;32m/Users/Neuromancer/anaconda/envs/myenv3/lib/python3.4/zipfile.py\u001b[0m in \u001b[0;36m_EndRecData\u001b[0;34m(fpin)\u001b[0m\n\u001b[1;32m    235\u001b[0m \u001b[0;34m\u001b[0m\u001b[0m\n\u001b[1;32m    236\u001b[0m     \u001b[0;31m# Determine file size\u001b[0m\u001b[0;34m\u001b[0m\u001b[0;34m\u001b[0m\u001b[0m\n\u001b[0;32m--> 237\u001b[0;31m     \u001b[0mfpin\u001b[0m\u001b[0;34m.\u001b[0m\u001b[0mseek\u001b[0m\u001b[0;34m(\u001b[0m\u001b[0;36m0\u001b[0m\u001b[0;34m,\u001b[0m \u001b[0;36m2\u001b[0m\u001b[0;34m)\u001b[0m\u001b[0;34m\u001b[0m\u001b[0m\n\u001b[0m\u001b[1;32m    238\u001b[0m     \u001b[0mfilesize\u001b[0m \u001b[0;34m=\u001b[0m \u001b[0mfpin\u001b[0m\u001b[0;34m.\u001b[0m\u001b[0mtell\u001b[0m\u001b[0;34m(\u001b[0m\u001b[0;34m)\u001b[0m\u001b[0;34m\u001b[0m\u001b[0m\n\u001b[1;32m    239\u001b[0m \u001b[0;34m\u001b[0m\u001b[0m\n",
      "\u001b[0;31mAttributeError\u001b[0m: 'bytes' object has no attribute 'seek'"
     ]
    }
   ],
   "source": [
    "zipfile.ZipFile(r.content)"
   ]
  },
  {
   "cell_type": "code",
   "execution_count": 55,
   "metadata": {
    "collapsed": false
   },
   "outputs": [
    {
     "name": "stdout",
     "output_type": "stream",
     "text": [
      "downloading with requests\n"
     ]
    }
   ],
   "source": [
    "import requests\n",
    "print(\"downloading with requests\")\n",
    "r = requests.get(zip_file_url)\n",
    "with open(\"code3.zip\", \"wb\") as code:\n",
    "    code.write(r.content)"
   ]
  },
  {
   "cell_type": "code",
   "execution_count": 57,
   "metadata": {
    "collapsed": false
   },
   "outputs": [
    {
     "data": {
      "text/plain": [
       "b'\\r\\n\\r\\n<!DOCTYPE html>\\r\\n\\r\\n<!--[if lt IE 7 ]><html class=\"ie ie6 lte7 lte8 lte9\"><![endif]-->\\r\\n<!--[if IE 7 ]><html class=\"ie ie7 lte7 lte8 lte9\"><![endif]-->\\r\\n<!--[if IE 8 ]><html class=\"ie ie8 lte8 lte9\"><![endif]-->\\r\\n<!--[if IE 9 ]><html class=\"ie ie9 lte9\"><![endif]-->\\r\\n<!--[if (gt IE 9)|!(IE)]><!--><html ><!--<![endif]-->\\r\\n\\r\\n<head>\\r\\n    <link href=\\'//fonts.googleapis.com/css?family=Merriweather:400,700|Open+Sans:300,400italic,700italic,400,700\\' rel=\\'stylesheet\\' type=\\'text/css\\'> \\r\\n\\r\\n    \\r\\n    <link rel=\"stylesheet\" href=\"/content/v/bbdad30669ee/shared/css/font-awesome.min.css\">\\r\\n\\r\\n    \\r\\n    \\r\\n    <title>Login | Kaggle</title>\\r\\n    <meta http-equiv=\"Content-Type\" content=\"text/html; charset=utf-8\" />\\r\\n    <meta name=\"robots\" content=\"index, follow\" />\\r\\n    <link href=\"/content/v/4e3f994e938b/kaggle/favicon.ico\" rel=\"shortcut icon\" type=\"image/x-icon\" />\\r\\n\\r\\n    \\r\\n        <meta name=\"keywords\" content=\"Kaggle, data science, big analytics, data mining, forecasting, statistics, prediction, bioinformatics, competitions, contests, crowdsourced analytics\" />\\r\\n            <meta name=\"description\" content=\"Kaggle is a platform for data prediction competitions. Companies, organizations and researchers post their data and have it scrutinized by the world&#39;s best statisticians.\" />\\r\\n\\r\\n            <link rel=\"stylesheet\" href=\"/content/v/f779fdabea7a/shared/css/base.less\" type=\"text/css\" />\\r\\n        <link rel=\"stylesheet\" href=\"/content/v/4b4de64aa988/kaggle/css/kaggle-site.less\" type=\"text/css\" />\\r\\n\\r\\n        <script type=\"text/javascript\" src=\"/content/v/47b68dce8cb6/shared/js/jquery-1.7.2.min.js\"></script>\\r\\n            <script type=\"text/javascript\" src=\"/content/v/7846b5904b60/shared/js/jquery-ui-1.9.2.min.js\"></script>\\r\\n\\r\\n    \\r\\n        <script type=\"text/javascript\" src=\"/content/v/a60ecf3c5c7d/shared/js/kaggle.min.js\"></script>\\r\\n        <script type=\"text/javascript\">\\r\\n            \\r\\n            Kaggle.Current.siteId = 1;\\r\\n                    </script>\\r\\n\\r\\n    \\r\\n    <!--[if (gte IE 6)&(lte IE 8)]>\\r\\n        <script type=\"text/javascript\" src=\"/content/v/f1f17fea7cee/shared/js/ie/selectivizr.min.js\"></script>\\r\\n    <![endif]-->\\r\\n\\r\\n    \\r\\n                                        \\r\\n                                                                \\r\\n                    <link rel=\"apple-touch-icon\" href=\"/content/v/1e4cdaa83f46/kaggle/img/apple-touch-icon.png\" />\\r\\n\\r\\n\\r\\n    \\r\\n    <!--[if lt IE 9]>\\r\\n        <script src=\"//html5shim.googlecode.com/svn/trunk/html5.js\"></script>\\r\\n    <![endif]-->\\r\\n</head>\\r\\n<body class=\"logged-out    kaggle  \">\\r\\n    <div id=\"wrap\"><!-- needed for sticky footer -->\\r\\n<div id=\"menu-open-overlay\"></div>\\r\\n\\r\\n<div id=\"header2\">\\r\\n    <div id=\"header2-inside\">    \\r\\n        <a id=\"logo\" href=\"/\"><img alt=\"Kaggle\" height=\"86\" src=\"/content/v/d6801c936e94/kaggle/img/site-logo.png\" width=\"240\" /></a>\\r\\n\\r\\n            <ul id=\"header-ul\">\\r\\n                <li>\\r\\n  <a href=\"/solutions/competitions\">Host</a>\\r\\n</li>\\r\\n<li>\\r\\n  <a href=\"/competitions\">Competitions</a>\\r\\n</li>\\r\\n<li>\\r\\n  <a href=\"/jobs\">Jobs</a>\\r\\n</li>\\r\\n<li>\\r\\n<a href=\"\">Community &#9662;</a>\\r\\n<ul>\\r\\n  <li><a href=\\'/users\\'>User Rankings</a></li>\\r\\n  <li><a href=\\'/forums\\'>Forum</a></li>\\r\\n  <!--<li><a href=\"/jobs\">Jobs Board</a></li>-->\\r\\n  <li><a href=\"http://blog.kaggle.com\" target=\"_blank\">Blog</a></li>\\r\\n  <li><a href=\\'/Wiki\\'>Wiki</a></li>\\r\\n</ul>\\r\\n</li><!-- <script>\\r\\n  $(function(){\\r\\n    if (!$(\\'body.logged-in\\').length) {\\r\\n      $(\\'a.logged-in-only\\').hide().parent().next().find(\\'a\\').css(\\'padding-top\\',\\'10px\\');\\r\\n    }\\r\\n  });\\r\\n</script> -->\\r\\n            </ul>\\r\\n\\r\\n        <script>\\r\\n            jQuery(function () {\\r\\n                jQuery(\\'#header-ul li:has(ul) > a\\').click(function(e) {\\r\\n                    e.preventDefault();\\r\\n                    \\r\\n                    jQuery(\\'#header-ul li\\').not(jQuery(this).parent()).find(\\'ul\\').removeClass(\\'open\\');\\r\\n                    jQuery(this).parent().find(\\'ul\\').toggleClass(\\'open\\');\\r\\n                    jQuery(\\'#menu-open-overlay\\').show();\\r\\n                });\\r\\n\\r\\n                jQuery(\\'#menu-open-overlay\\').click( function() {\\r\\n                    jQuery(\\'#header-ul ul\\').removeClass(\\'open\\');\\r\\n                    jQuery(\\'#top-bar-signin\\').hide();\\r\\n                    jQuery(this).hide();\\r\\n                });\\r\\n\\r\\n            });\\r\\n        </script>\\r\\n    \\r\\n        <ul id=\"header-control\">\\r\\n                <li id=\"header-signup\"><a href=\"/account/register\"><strong><text>Sign up</text></strong></a></li>  \\r\\n                <li id=\"header-login\">\\r\\n                    <a href=\"/account/login?returnUrl=%2Faccount%2Flogin%3FReturnUrl%3D%252fc%252fotto-group-product-classification-challenge%252fdownload%252ftrain.csv.zip\" class=\"login-link\">Login</a>\\r\\n                </li>      \\r\\n        </ul>\\r\\n            <div id=\"top-bar-signin\">    \\r\\n                <div id=\"social-authentication-top\">\\r\\n    <div id=\"social-authentication-top-head\">\\r\\n        Log in<br/>\\r\\n        with &mdash;\\r\\n    </div>\\r\\n    <div id=\"social-authentication-top-buttons\">\\r\\n        <a href=\"/account/authenticate/facebook\" class=\"socialSignIn facebook\" title=\"Log in with Facebook\"><img src=\"/content/v/f5274345ad7a/shared/img/auth-facebook.png\" width=\"36\" height=\"36\" alt=\"Sign up with Facebook\" title=\"Sign up with Facebook\" /></a>\\r\\n        <a href=\"/account/authenticate/google\" class=\"socialSignIn google\" title=\"Log in with Google\"><img src=\"/content/v/d6df56991e32/shared/img/auth-google.png\" width=\"36\" height=\"36\" alt=\"Sign up with Google\" title=\"Sign up with Google\" /></a>\\r\\n        <a href=\"/account/authenticate/yahoo\" class=\"socialSignIn yahoo\" title=\"Log in with Yahoo\"><img src=\"/content/v/ca50427b37b7/shared/img/auth-yahoo.png\" width=\"36\" height=\"36\" alt=\"Sign up with Yahoo\" title=\"Sign up with Yahoo\" /></a>\\r\\n    </div>\\r\\n    \\r\\n    <script type=\"text/javascript\">\\r\\n        var socialSignInLinks = $(\\'a.socialSignIn\\');\\r\\n        socialSignInLinks.attr(\"href\", function(i,v){\\r\\n            return v + \\'?js=1\\';\\r\\n        });\\r\\n        socialSignInLinks.click(function(){\\r\\n            _gaq.push([\\'_trackEvent\\', \\'action\\', \\'login\\', \\'top-bar\\']);\\r\\n            return true;\\r\\n        });\\r\\n    </script>\\r\\n</div>\\r\\n    \\r\\n\\r\\n<form action=\"/account/login\" id=\"signin\" method=\"post\"><input id=\"returnUrl\" name=\"returnUrl\" type=\"hidden\" value=\"https://www.kaggle.com/account/login?ReturnUrl=%2fc%2fotto-group-product-classification-challenge%2fdownload%2ftrain.csv.zip\" /><input data-val=\"true\" data-val-length=\"The field User name must be a string with a minimum length of 2 and a maximum length of 255.\" data-val-length-max=\"255\" data-val-length-min=\"2\" data-val-required=\"The User name field is required.\" id=\"UserName\" name=\"UserName\" placeholder=\"Email / username\" type=\"text\" value=\"\" /><span class=\"field-validation-valid\" data-valmsg-for=\"UserName\" data-valmsg-replace=\"true\"></span><input data-val=\"true\" data-val-length=\"The field Password must be a string with a minimum length of 1 and a maximum length of 255.\" data-val-length-max=\"255\" data-val-length-min=\"1\" data-val-required=\"The Password field is required.\" id=\"Password\" name=\"Password\" placeholder=\"Password\" type=\"password\" /><span class=\"field-validation-valid\" data-valmsg-for=\"Password\" data-valmsg-replace=\"true\"></span>    <div id=\"remember-me\">\\r\\n        <input data-val=\"true\" data-val-required=\"The Remember me? field is required.\" id=\"RememberMe\" name=\"RememberMe\" type=\"checkbox\" value=\"true\" /><input name=\"RememberMe\" type=\"hidden\" value=\"false\" />            \\r\\n        <label for=\"RememberMe\">Remember me?</label>\\r\\n    </div>   \\r\\n    <input type=\"submit\" value=\"Login\" />\\r\\n<input name=\"__RequestVerificationToken\" type=\"hidden\" value=\"1OpekcmHA4BKrDVJM4JNJ0iCTu4u55f4UO8e63WVQwdOdBk6-sFjfj-87AhOidu47jSqOvoAIlaSTg8LobP11YSye_k1\" />    <input id=\"signinjs\" type=\"hidden\" name=\"JavaScriptEnabled\" value=\"false\" />    \\r\\n</form>\\r\\n<script type=\"text/javascript\">\\r\\n    $(\\'#signinjs\\').attr(\\'value\\', \\'true\\');\\r\\n    $(\\'#signin\\').submit(function () { _gaq.push([\\'_trackEvent\\', \\'action\\', \\'login\\', \\'top-bar\\']); });\\r\\n</script>\\r\\n\\r\\n<div id=\"forgot-links\">        \\r\\n    Forgot your <a href=\"/forgot/username\">Username</a> \\r\\n    / \\r\\n    <a href=\"/forgot/password\">Password</a>?\\r\\n</div>\\r\\n\\r\\n            </div>\\r\\n            <script>\\r\\n                jQuery(function () {\\r\\n                    jQuery(\\'.login-link\\').click(function (e) {\\r\\n                        e.preventDefault();\\r\\n                        jQuery(\\'#top-bar-signin\\').toggle();\\r\\n                        jQuery(\\'#menu-open-overlay\\').toggle();\\r\\n                        if (jQuery(\\'#top-bar-signin\\').is(\":visible\")) {\\r\\n                            jQuery(\\'#UserName\\').focus();\\r\\n                        }\\r\\n                    });\\r\\n                });\\r\\n            </script>\\r\\n    </div>\\r\\n</div>\\r\\n\\r\\n\\r\\n\\r\\n\\r\\n\\r\\n        \\r\\n\\r\\n        <!-- header-inside and header -->\\r\\n\\r\\n<div id=\"standalone-signin\">\\r\\n    <div class=\"validation-summary-valid\" data-valmsg-summary=\"true\"><ul><li style=\"display:none\"></li>\\r\\n</ul></div>\\r\\n    <form action=\"/account/login\" id=\"login-account\" method=\"post\">    <fieldset id=\"social-authentication\">\\r\\n        <a href=\"/account/authenticate/facebook\" class=\"standaloneSocialSignIn\" title=\"Login with Facebook\"><img width=\\'95\\' height=\"95\" src=\"/content/v/f5274345ad7a/shared/img/auth-facebook.png\" alt=\"Login with Facebook\" /></a>\\r\\n        <a href=\"/account/authenticate/google\" class=\"standaloneSocialSignIn\" title=\"Login with Google\"><img width=\\'95\\' height=\"95\" src=\"/content/v/d6df56991e32/shared/img/auth-google.png\" alt=\"Login with Google\" /></a>\\r\\n        <a href=\"/account/authenticate/yahoo\" class=\"standaloneSocialSignIn\" title=\"Login with Yahoo\"><img width=\\'95\\' height=\"95\" src=\"/content/v/ca50427b37b7/shared/img/auth-yahoo.png\" alt=\"Login with Yahoo\" /></a>\\r\\n        \\r\\n    </fieldset> \\r\\n<script type=\"text/javascript\">\\r\\n        var standaloneSocialSignInLinks = $(\\'a.standaloneSocialSignIn\\');\\r\\n        standaloneSocialSignInLinks.attr(\"href\", function(i,v){\\r\\n            return v + \\'?js=1\\';\\r\\n        });\\r\\n        standaloneSocialSignInLinks.click(function(){\\r\\n            _gaq.push([\\'_trackEvent\\', \\'action\\', \\'login\\', \\'standalone\\']);\\r\\n            return true;\\r\\n        });\\r\\n    </script>    <fieldset>\\r\\n        \\r\\n        <div class=\"field\">\\r\\n            <label>Email / username</label>\\r\\n            <a href=\"/forgot/username\" class=\"field-forgot-link\" tabindex=\"4\">Forgot username?</a>\\r\\n            <input data-val=\"true\" data-val-length=\"The field User name must be a string with a minimum length of 2 and a maximum length of 255.\" data-val-length-max=\"255\" data-val-length-min=\"2\" data-val-required=\"The User name field is required.\" id=\"UserName\" name=\"UserName\" tabindex=\"1\" type=\"text\" value=\"\" />\\r\\n            <span class=\"field-validation-valid\" data-valmsg-for=\"UserName\" data-valmsg-replace=\"true\"></span>\\r\\n        </div>\\r\\n\\r\\n        <div class=\"field\">\\r\\n            <label for=\"Password\">Password</label>\\r\\n            <a href=\"/forgot/password\" class=\"field-forgot-link\" tabindex=\"5\">Forgot password?</a>\\r\\n            <input data-val=\"true\" data-val-length=\"The field Password must be a string with a minimum length of 1 and a maximum length of 255.\" data-val-length-max=\"255\" data-val-length-min=\"1\" data-val-required=\"The Password field is required.\" id=\"Password\" name=\"Password\" tabindex=\"2\" type=\"password\" />\\r\\n            <span class=\"field-validation-valid\" data-valmsg-for=\"Password\" data-valmsg-replace=\"true\"></span>\\r\\n        </div>\\r\\n\\r\\n        <div class=\"field\">\\r\\n            <input id=\"get-started\" type=\"submit\" value = \"Login\" tabindex=\"3\" />\\r\\n            <input id=\"standalonesigninjs\" type=\"hidden\" name=\"JavaScriptEnabled\" value=\"false\" />\\r\\n        </div>\\r\\n          \\r\\n    </fieldset>   \\r\\n</form>\\r\\n<script type=\"text/javascript\">\\r\\n    $(\\'#standalonesigninjs\\').attr(\\'value\\', \\'true\\');\\r\\n    $(\\'#login-account\\').submit(function () { _gaq.push([\\'_trackEvent\\', \\'action\\', \\'login\\', \\'standalone\\']); });\\r\\n</script>\\r\\n\\r\\n<div id=\"login-page-signup\" class=\"no-oauth\">\\r\\n    <label><a href=\"/account/register\" tabindex=\"6\">Create an account &raquo;</a></label>\\r\\n</div>\\r\\n \\r\\n\\r\\n\\r\\n</div>\\r\\n    </div> <!-- wrap -->\\r\\n    <div id=\"footer\">\\r\\n        <div id=\"footer-inside\">\\r\\n            <div id=\"footer-social\">\\r\\n                    <div id=\"social-links\">\\r\\n            <a class=\"twitter\" href=\"http://www.twitter.com/kaggle\" title=\"Follow Kaggle on Twitter\"></a>     \\r\\n                    <a class=\"facebook\" href=\"http://www.facebook.com/kaggle\" title=\"Follow Kaggle on Facebook\"></a>           \\r\\n                    <a class=\"linkedin\" href=\"http://www.linkedin.com/companies/kaggle\" title=\"Follow Kaggle on LinkedIn\"></a>        \\r\\n    </div><!-- social-links -->\\r\\n\\r\\n            </div>\\r\\n            <div id=\"footer-copyright\">\\r\\n                \\r\\n\\r\\n\\r\\n&copy; 2015 Kaggle Inc            </div>\\r\\n            <div id=\"footer-links\">\\r\\n                <a href=\"/about\">About</a>\\r\\n<a href=\"/team\">Our Team</a>\\r\\n<a href=\"/careers\">Careers</a>\\r\\n<a href=\"/terms\">Terms</a>\\r\\n<a href=\"/privacy\">Privacy</a> \\r\\n<!--<a href=\"/Home/ContactPress\">Press</a>-->\\r\\n<a href=\"/papers\">Papers</a>\\r\\n<a href=\"/Home/contact\">Contact/Support</a>\\r\\n            </div> <!-- footer-links -->\\r\\n        </div> <!-- footer-inside -->\\r\\n    </div> <!--footer-->\\r\\n\\r\\n        \\r\\n        <script type=\"text/javascript\">\\r\\n            var _gaq = _gaq || [];\\r\\n            _gaq.push([\\'_setAccount\\', \\'UA-12629138-1\\']);\\r\\n            _gaq.push([\\'_trackPageview\\']);\\r\\n            _gaq.push([\\'_trackPageLoadTime\\']);\\r\\n            _gaq.push([\\'_setCustomVar\\', 1, \\'usertype\\', \\'anonymous\\', 2]);\\r\\n            (function () {\\r\\n                var ga = document.createElement(\\'script\\'); ga.type = \\'text/javascript\\'; ga.async = true;\\r\\n                ga.src = (\\'https:\\' == document.location.protocol ? \\'https://ssl\\' : \\'http://www\\') + \\'.google-analytics.com/ga.js\\';\\r\\n                var s = document.getElementsByTagName(\\'script\\')[0]; s.parentNode.insertBefore(ga, s);\\r\\n            })();\\r\\n        </script>\\r\\n        <script type=\"text/javascript\">\\r\\n        /**\\r\\n        * Function that tracks a click on an outbound link in Google Analytics.\\r\\n        * This function takes a valid URL string as an argument, and uses that URL string\\r\\n        * as the event label.\\r\\n        * See: https://support.google.com/analytics/answer/1136920?hl=en\\r\\n        */\\r\\n        var trackOutboundLink = function(url) {\\r\\n            ga(\\'send\\', \\'event\\', \\'outbound\\', \\'click\\', url, {\\'hitCallback\\':\\r\\n              function () {\\r\\n                  document.location = url;\\r\\n              }\\r\\n            });\\r\\n        }\\r\\n        </script>\\r\\n\\r\\n    \\r\\n\\r\\n    <!-- Hiya 115.187.164.245! Cheers, RD00155D48672Fp -->\\r\\n</body>\\r\\n</html>\\r\\n'"
      ]
     },
     "execution_count": 57,
     "metadata": {},
     "output_type": "execute_result"
    }
   ],
   "source": [
    "r.content"
   ]
  },
  {
   "cell_type": "code",
   "execution_count": null,
   "metadata": {
    "collapsed": true
   },
   "outputs": [],
   "source": [
    "zip = zipfile.ZipFile(results.content)"
   ]
  }
 ],
 "metadata": {
  "kernelspec": {
   "display_name": "Python 3",
   "language": "python",
   "name": "python3"
  },
  "language_info": {
   "codemirror_mode": {
    "name": "ipython",
    "version": 3
   },
   "file_extension": ".py",
   "mimetype": "text/x-python",
   "name": "python",
   "nbconvert_exporter": "python",
   "pygments_lexer": "ipython3",
   "version": "3.4.3"
  }
 },
 "nbformat": 4,
 "nbformat_minor": 0
}
